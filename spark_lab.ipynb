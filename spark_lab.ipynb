{
  "nbformat": 4,
  "nbformat_minor": 0,
  "metadata": {
    "colab": {
      "provenance": [],
      "authorship_tag": "ABX9TyMAA0UyJpo9zQAXsviPDcNB"
    },
    "kernelspec": {
      "name": "python3",
      "display_name": "Python 3"
    },
    "language_info": {
      "name": "python"
    }
  },
  "cells": [
    {
      "cell_type": "markdown",
      "source": [
        "#Introduction to Apache Spark lab\n",
        "asifyarawan@gmail.com"
      ],
      "metadata": {
        "id": "wGTsheANXsCt"
      }
    },
    {
      "cell_type": "code",
      "execution_count": null,
      "metadata": {
        "id": "75CxaUvWWjEt"
      },
      "outputs": [],
      "source": [
        "!apt-get install openjdk-8-jdk-headless -qq > /dev/null\n",
        "!wget -q https://archive.apache.org/dist/spark/spark-3.1.2/spark-3.1.2-bin-hadoop3.2.tgz\n",
        "!tar -xvf spark-3.1.2-bin-hadoop3.2.tgz\n",
        "!pip install -q findspark"
      ]
    },
    {
      "cell_type": "code",
      "source": [
        "import os\n",
        "os.environ[\"JAVA_HOME\"] = \"/usr/lib/jvm/java-8-openjdk-amd64\"\n",
        "os.environ[\"SPARK_HOME\"] = \"/content/spark-3.1.2-bin-hadoop3.2\""
      ],
      "metadata": {
        "id": "Ky8JJHK5wpCc"
      },
      "execution_count": null,
      "outputs": []
    },
    {
      "cell_type": "markdown",
      "source": [
        "#RDD"
      ],
      "metadata": {
        "id": "DKJpN7ZAjnca"
      }
    },
    {
      "cell_type": "code",
      "source": [
        "import findspark\n",
        "findspark.init()\n",
        "from pyspark.sql import SparkSession\n"
      ],
      "metadata": {
        "id": "Am1QOf8Ks6-Z"
      },
      "execution_count": null,
      "outputs": []
    },
    {
      "cell_type": "code",
      "source": [
        "\n",
        "spark = SparkSession.builder.master(\"local[*]\").getOrCreate()\n",
        "spark.conf.set(\"spark.sql.repl.eagerEval.enabled\", True) # Property used to format output tables better\n",
        "spark"
      ],
      "metadata": {
        "colab": {
          "base_uri": "https://localhost:8080/",
          "height": 219
        },
        "id": "ZFBJKnYklaXN",
        "outputId": "85ad42fe-4568-4a07-a75b-104718600e32"
      },
      "execution_count": null,
      "outputs": [
        {
          "output_type": "execute_result",
          "data": {
            "text/plain": [
              "<pyspark.sql.session.SparkSession at 0x7f1c0c1d7f40>"
            ],
            "text/html": [
              "\n",
              "            <div>\n",
              "                <p><b>SparkSession - in-memory</b></p>\n",
              "                \n",
              "        <div>\n",
              "            <p><b>SparkContext</b></p>\n",
              "\n",
              "            <p><a href=\"http://4100a033c714:4040\">Spark UI</a></p>\n",
              "\n",
              "            <dl>\n",
              "              <dt>Version</dt>\n",
              "                <dd><code>v3.1.2</code></dd>\n",
              "              <dt>Master</dt>\n",
              "                <dd><code>local[*]</code></dd>\n",
              "              <dt>AppName</dt>\n",
              "                <dd><code>pyspark-shell</code></dd>\n",
              "            </dl>\n",
              "        </div>\n",
              "        \n",
              "            </div>\n",
              "        "
            ]
          },
          "metadata": {},
          "execution_count": 4
        }
      ]
    },
    {
      "cell_type": "code",
      "source": [
        "from pyspark import SparkContext\n",
        "from pyspark import SparkConf"
      ],
      "metadata": {
        "id": "-WWnLLxPjmRF"
      },
      "execution_count": null,
      "outputs": []
    },
    {
      "cell_type": "code",
      "source": [
        "#conf = SparkConf().setAppName(\"My Spark APP\").setMaster(\"local\")\n",
        "#sc = SparkContext(conf=conf)"
      ],
      "metadata": {
        "id": "XatjbHdX2eE5"
      },
      "execution_count": null,
      "outputs": []
    },
    {
      "cell_type": "code",
      "source": [
        "sc = spark.sparkContext"
      ],
      "metadata": {
        "id": "TnlJGwB4jmcG"
      },
      "execution_count": null,
      "outputs": []
    },
    {
      "cell_type": "code",
      "source": [
        "list = [1,2,3,4,5]\n",
        "rdd = sc.parallelize(list)"
      ],
      "metadata": {
        "id": "__Qx6M6b4jxS"
      },
      "execution_count": null,
      "outputs": []
    },
    {
      "cell_type": "code",
      "source": [
        "rdd.map(lambda x : x * 2).map(lambda x: x +2).collect()"
      ],
      "metadata": {
        "colab": {
          "base_uri": "https://localhost:8080/"
        },
        "id": "teurf0FA8Nvy",
        "outputId": "920042be-2125-40ec-df85-1b4ab51edcf9"
      },
      "execution_count": null,
      "outputs": [
        {
          "output_type": "execute_result",
          "data": {
            "text/plain": [
              "[4, 6, 8, 10, 12]"
            ]
          },
          "metadata": {},
          "execution_count": 82
        }
      ]
    },
    {
      "cell_type": "code",
      "source": [
        "rdd.collect()"
      ],
      "metadata": {
        "id": "QQu5hQzpsEJD"
      },
      "execution_count": null,
      "outputs": []
    },
    {
      "cell_type": "code",
      "source": [
        "rdd.filter(lambda x: x >3).count()"
      ],
      "metadata": {
        "colab": {
          "base_uri": "https://localhost:8080/"
        },
        "id": "sY2L86tOsELm",
        "outputId": "20b2fd18-0826-43e2-f859-9ac031ce31ec"
      },
      "execution_count": null,
      "outputs": [
        {
          "output_type": "execute_result",
          "data": {
            "text/plain": [
              "2"
            ]
          },
          "metadata": {},
          "execution_count": 83
        }
      ]
    },
    {
      "cell_type": "code",
      "source": [
        "rdd.reduce(lambda x,y : x + y)"
      ],
      "metadata": {
        "colab": {
          "base_uri": "https://localhost:8080/"
        },
        "id": "ZIa8p1kysEOR",
        "outputId": "3173edc2-4996-4ef7-c81c-055269ef97f6"
      },
      "execution_count": null,
      "outputs": [
        {
          "output_type": "execute_result",
          "data": {
            "text/plain": [
              "15"
            ]
          },
          "metadata": {},
          "execution_count": 84
        }
      ]
    },
    {
      "cell_type": "code",
      "source": [],
      "metadata": {
        "id": "mUn8ObdnsEQ3"
      },
      "execution_count": null,
      "outputs": []
    },
    {
      "cell_type": "code",
      "source": [
        "sc.parallelize([1,2,3,4,5,6,7,8] , 3).glom().collect()"
      ],
      "metadata": {
        "id": "_xmCTXj1sETo"
      },
      "execution_count": null,
      "outputs": []
    },
    {
      "cell_type": "code",
      "source": [
        "data = [1, 2, 3, 4, 5]\n",
        "RDD = sc.parallelize(data)"
      ],
      "metadata": {
        "id": "LObO_iSn2SNB"
      },
      "execution_count": null,
      "outputs": []
    },
    {
      "cell_type": "code",
      "source": [
        "RDD.map(lambda x: x * 2).collect()"
      ],
      "metadata": {
        "id": "M3EvgxBE2tA6"
      },
      "execution_count": null,
      "outputs": []
    },
    {
      "cell_type": "code",
      "source": [
        "RDD.reduce(lambda a, b: a + b)"
      ],
      "metadata": {
        "id": "5D_8kTLmjmf5"
      },
      "execution_count": null,
      "outputs": []
    },
    {
      "cell_type": "code",
      "source": [
        "[x * 2 for x in data]"
      ],
      "metadata": {
        "id": "GUQhgZlHjmiw"
      },
      "execution_count": null,
      "outputs": []
    },
    {
      "cell_type": "code",
      "source": [
        "RDD.filter(lambda x: x > 3).collect()"
      ],
      "metadata": {
        "id": "C8lO_Ayijmlq"
      },
      "execution_count": null,
      "outputs": []
    },
    {
      "cell_type": "code",
      "source": [
        "list = range(1, 101)\n",
        "rdd_list = sc.parallelize(list , 4)\n",
        "rdd_list.take(5)"
      ],
      "metadata": {
        "id": "BNR_uQYfjmqB"
      },
      "execution_count": null,
      "outputs": []
    },
    {
      "cell_type": "code",
      "source": [
        "sentences = [\"The quick brown fox\", \"jumps over the lazy dog\"]\n",
        "rdd = sc.parallelize(sentences)\n",
        "words = rdd.flatMap(lambda sentence: sentence.split())\n",
        "words.collect()"
      ],
      "metadata": {
        "id": "eVURChws9wOc"
      },
      "execution_count": null,
      "outputs": []
    },
    {
      "cell_type": "code",
      "source": [
        "rdd = sc.parallelize([(1, 2), (3, 4), (1, 1)])\n",
        "grouped = rdd.groupByKey()\n",
        "result = grouped.mapValues(lambda x: sum([i for i in x]))\n",
        "result.collect()\n",
        "\n"
      ],
      "metadata": {
        "id": "dNnqJVNZFqh6"
      },
      "execution_count": null,
      "outputs": []
    },
    {
      "cell_type": "code",
      "source": [
        "count_rdd = sc.parallelize([('apple', 3), ('banana', 2), ('apple', 2), ('orange', 6) , ('banana', 7)])\n",
        "grouped = count_rdd.groupByKey()\n",
        "grouped.mapValues(lambda x: sum([i for i in x])).collect()\n"
      ],
      "metadata": {
        "id": "az7TeDymLC4n"
      },
      "execution_count": null,
      "outputs": []
    },
    {
      "cell_type": "code",
      "source": [
        "count_rdd.reduceByKey(lambda x, y: x +  y * 2).collect()\n"
      ],
      "metadata": {
        "id": "eB9EqS1hLt7M"
      },
      "execution_count": null,
      "outputs": []
    },
    {
      "cell_type": "code",
      "source": [
        "#!wget https://github.com/AsifYar/Datasets/\n",
        "\n",
        "lines = sc.textFile(\"/content/README.md\")\n",
        "lineLengths = lines.map(lambda s: len(s))\n",
        "totalLength = lineLengths.reduce(lambda a, b: a + b)\n",
        "totalLength"
      ],
      "metadata": {
        "id": "DUoMcRK7Fqk2"
      },
      "execution_count": null,
      "outputs": []
    },
    {
      "cell_type": "code",
      "source": [
        "pairs = lines.map(lambda s: (s, 1))\n",
        "counts = pairs.reduceByKey(lambda a, b: a + b)\n",
        "counts.collect()"
      ],
      "metadata": {
        "id": "gRsDNnpCFqnf"
      },
      "execution_count": null,
      "outputs": []
    },
    {
      "cell_type": "code",
      "source": [
        "from pyspark.storagelevel import StorageLevel\n",
        "\n",
        "lines.persist( StorageLevel.MEMORY_ONLY)\n",
        "#er \n",
        "\n",
        "lines.cache()"
      ],
      "metadata": {
        "colab": {
          "base_uri": "https://localhost:8080/"
        },
        "id": "PNT2yRZ4Fqt8",
        "outputId": "468372cd-ef68-4af1-fd2d-9e8f53343ac5"
      },
      "execution_count": null,
      "outputs": [
        {
          "output_type": "execute_result",
          "data": {
            "text/plain": [
              "/content/README.md MapPartitionsRDD[81] at textFile at NativeMethodAccessorImpl.java:0"
            ]
          },
          "metadata": {},
          "execution_count": 44
        }
      ]
    },
    {
      "cell_type": "markdown",
      "source": [
        "#Spark SQL"
      ],
      "metadata": {
        "id": "wgXCZdRH_hUy"
      }
    },
    {
      "cell_type": "code",
      "source": [
        "df = spark.read.csv('/content/cars.csv' , header = True , sep=';' )\n",
        "df.show()"
      ],
      "metadata": {
        "colab": {
          "base_uri": "https://localhost:8080/"
        },
        "id": "iIHyEKpZxTNQ",
        "outputId": "c57fd6f8-5d0d-490c-d227-78bef6382055"
      },
      "execution_count": null,
      "outputs": [
        {
          "output_type": "stream",
          "name": "stdout",
          "text": [
            "+--------------------+----+---------+------------+----------+------+------------+-----+------+\n",
            "|                 Car| MPG|Cylinders|Displacement|Horsepower|Weight|Acceleration|Model|Origin|\n",
            "+--------------------+----+---------+------------+----------+------+------------+-----+------+\n",
            "|Chevrolet Chevell...|18.0|        8|       307.0|     130.0| 3504.|        12.0|   70|    US|\n",
            "|   Buick Skylark 320|15.0|        8|       350.0|     165.0| 3693.|        11.5|   70|    US|\n",
            "|  Plymouth Satellite|18.0|        8|       318.0|     150.0| 3436.|        11.0|   70|    US|\n",
            "|       AMC Rebel SST|16.0|        8|       304.0|     150.0| 3433.|        12.0|   70|    US|\n",
            "|         Ford Torino|17.0|        8|       302.0|     140.0| 3449.|        10.5|   70|    US|\n",
            "|    Ford Galaxie 500|15.0|        8|       429.0|     198.0| 4341.|        10.0|   70|    US|\n",
            "|    Chevrolet Impala|14.0|        8|       454.0|     220.0| 4354.|         9.0|   70|    US|\n",
            "|   Plymouth Fury iii|14.0|        8|       440.0|     215.0| 4312.|         8.5|   70|    US|\n",
            "|    Pontiac Catalina|14.0|        8|       455.0|     225.0| 4425.|        10.0|   70|    US|\n",
            "|  AMC Ambassador DPL|15.0|        8|       390.0|     190.0| 3850.|         8.5|   70|    US|\n",
            "|Citroen DS-21 Pallas|   0|        4|       133.0|     115.0| 3090.|        17.5|   70|Europe|\n",
            "|Chevrolet Chevell...|   0|        8|       350.0|     165.0| 4142.|        11.5|   70|    US|\n",
            "|    Ford Torino (sw)|   0|        8|       351.0|     153.0| 4034.|        11.0|   70|    US|\n",
            "|Plymouth Satellit...|   0|        8|       383.0|     175.0| 4166.|        10.5|   70|    US|\n",
            "|  AMC Rebel SST (sw)|   0|        8|       360.0|     175.0| 3850.|        11.0|   70|    US|\n",
            "| Dodge Challenger SE|15.0|        8|       383.0|     170.0| 3563.|        10.0|   70|    US|\n",
            "|  Plymouth 'Cuda 340|14.0|        8|       340.0|     160.0| 3609.|         8.0|   70|    US|\n",
            "|Ford Mustang Boss...|   0|        8|       302.0|     140.0| 3353.|         8.0|   70|    US|\n",
            "|Chevrolet Monte C...|15.0|        8|       400.0|     150.0| 3761.|         9.5|   70|    US|\n",
            "|Buick Estate Wago...|14.0|        8|       455.0|     225.0| 3086.|        10.0|   70|    US|\n",
            "+--------------------+----+---------+------------+----------+------+------------+-----+------+\n",
            "only showing top 20 rows\n",
            "\n"
          ]
        }
      ]
    },
    {
      "cell_type": "code",
      "source": [
        "df.show(5, truncate=False)"
      ],
      "metadata": {
        "colab": {
          "base_uri": "https://localhost:8080/"
        },
        "id": "fWTcGThSxwBG",
        "outputId": "ee05f862-181d-45f6-ec92-3982717d4188"
      },
      "execution_count": null,
      "outputs": [
        {
          "output_type": "stream",
          "name": "stdout",
          "text": [
            "+-------------------------+----+---------+------------+----------+------+------------+-----+------+\n",
            "|Car                      |MPG |Cylinders|Displacement|Horsepower|Weight|Acceleration|Model|Origin|\n",
            "+-------------------------+----+---------+------------+----------+------+------------+-----+------+\n",
            "|Chevrolet Chevelle Malibu|18.0|8        |307.0       |130.0     |3504. |12.0        |70   |US    |\n",
            "|Buick Skylark 320        |15.0|8        |350.0       |165.0     |3693. |11.5        |70   |US    |\n",
            "|Plymouth Satellite       |18.0|8        |318.0       |150.0     |3436. |11.0        |70   |US    |\n",
            "|AMC Rebel SST            |16.0|8        |304.0       |150.0     |3433. |12.0        |70   |US    |\n",
            "|Ford Torino              |17.0|8        |302.0       |140.0     |3449. |10.5        |70   |US    |\n",
            "+-------------------------+----+---------+------------+----------+------+------------+-----+------+\n",
            "only showing top 5 rows\n",
            "\n"
          ]
        }
      ]
    },
    {
      "cell_type": "code",
      "source": [
        "df.limit(5) #show, take"
      ],
      "metadata": {
        "colab": {
          "base_uri": "https://localhost:8080/",
          "height": 156
        },
        "id": "0qXVHc3sya1C",
        "outputId": "64b1ecba-db51-4265-87dd-2cc16179354b"
      },
      "execution_count": null,
      "outputs": [
        {
          "output_type": "execute_result",
          "data": {
            "text/plain": [
              "+--------------------+----+---------+------------+----------+------+------------+-----+------+\n",
              "|                 Car| MPG|Cylinders|Displacement|Horsepower|Weight|Acceleration|Model|Origin|\n",
              "+--------------------+----+---------+------------+----------+------+------------+-----+------+\n",
              "|Chevrolet Chevell...|18.0|        8|       307.0|     130.0| 3504.|        12.0|   70|    US|\n",
              "|   Buick Skylark 320|15.0|        8|       350.0|     165.0| 3693.|        11.5|   70|    US|\n",
              "|  Plymouth Satellite|18.0|        8|       318.0|     150.0| 3436.|        11.0|   70|    US|\n",
              "|       AMC Rebel SST|16.0|        8|       304.0|     150.0| 3433.|        12.0|   70|    US|\n",
              "|         Ford Torino|17.0|        8|       302.0|     140.0| 3449.|        10.5|   70|    US|\n",
              "+--------------------+----+---------+------------+----------+------+------------+-----+------+"
            ],
            "text/html": [
              "<table border='1'>\n",
              "<tr><th>Car</th><th>MPG</th><th>Cylinders</th><th>Displacement</th><th>Horsepower</th><th>Weight</th><th>Acceleration</th><th>Model</th><th>Origin</th></tr>\n",
              "<tr><td>Chevrolet Chevell...</td><td>18.0</td><td>8</td><td>307.0</td><td>130.0</td><td>3504.</td><td>12.0</td><td>70</td><td>US</td></tr>\n",
              "<tr><td>Buick Skylark 320</td><td>15.0</td><td>8</td><td>350.0</td><td>165.0</td><td>3693.</td><td>11.5</td><td>70</td><td>US</td></tr>\n",
              "<tr><td>Plymouth Satellite</td><td>18.0</td><td>8</td><td>318.0</td><td>150.0</td><td>3436.</td><td>11.0</td><td>70</td><td>US</td></tr>\n",
              "<tr><td>AMC Rebel SST</td><td>16.0</td><td>8</td><td>304.0</td><td>150.0</td><td>3433.</td><td>12.0</td><td>70</td><td>US</td></tr>\n",
              "<tr><td>Ford Torino</td><td>17.0</td><td>8</td><td>302.0</td><td>140.0</td><td>3449.</td><td>10.5</td><td>70</td><td>US</td></tr>\n",
              "</table>\n"
            ]
          },
          "metadata": {},
          "execution_count": 88
        }
      ]
    },
    {
      "cell_type": "code",
      "source": [
        "df.describe()"
      ],
      "metadata": {
        "colab": {
          "base_uri": "https://localhost:8080/",
          "height": 210
        },
        "id": "w0e6aZ3Fyy9T",
        "outputId": "eb1fdab3-bc2d-4909-b002-ce44139c4772"
      },
      "execution_count": null,
      "outputs": [
        {
          "output_type": "execute_result",
          "data": {
            "text/plain": [
              "+-------+--------------------+------------------+-----------------+------------------+-----------------+------------------+------------------+------------------+------+\n",
              "|summary|                 Car|               MPG|        Cylinders|      Displacement|       Horsepower|            Weight|      Acceleration|             Model|Origin|\n",
              "+-------+--------------------+------------------+-----------------+------------------+-----------------+------------------+------------------+------------------+------+\n",
              "|  count|                 406|               406|              406|               406|              406|               406|               406|               406|   406|\n",
              "|   mean|                null|23.051231527093602|5.475369458128079| 194.7795566502463|103.5295566502463|2979.4137931034484|15.519704433497521| 75.92118226600985|  null|\n",
              "| stddev|                null|   8.4017773522706|1.712159631548529|104.92245837948867|40.52065912106347| 847.0043282393513|2.8033588163425462|3.7487373454558743|  null|\n",
              "|    min|AMC Ambassador Br...|                 0|                3|             100.0|                0|             1613.|              10.0|                70|Europe|\n",
              "|    max|        Volvo Diesel|               9.0|                8|             98.00|            98.00|             5140.|              9.50|                82|    US|\n",
              "+-------+--------------------+------------------+-----------------+------------------+-----------------+------------------+------------------+------------------+------+"
            ],
            "text/html": [
              "<table border='1'>\n",
              "<tr><th>summary</th><th>Car</th><th>MPG</th><th>Cylinders</th><th>Displacement</th><th>Horsepower</th><th>Weight</th><th>Acceleration</th><th>Model</th><th>Origin</th></tr>\n",
              "<tr><td>count</td><td>406</td><td>406</td><td>406</td><td>406</td><td>406</td><td>406</td><td>406</td><td>406</td><td>406</td></tr>\n",
              "<tr><td>mean</td><td>null</td><td>23.051231527093602</td><td>5.475369458128079</td><td>194.7795566502463</td><td>103.5295566502463</td><td>2979.4137931034484</td><td>15.519704433497521</td><td>75.92118226600985</td><td>null</td></tr>\n",
              "<tr><td>stddev</td><td>null</td><td>8.4017773522706</td><td>1.712159631548529</td><td>104.92245837948867</td><td>40.52065912106347</td><td>847.0043282393513</td><td>2.8033588163425462</td><td>3.7487373454558743</td><td>null</td></tr>\n",
              "<tr><td>min</td><td>AMC Ambassador Br...</td><td>0</td><td>3</td><td>100.0</td><td>0</td><td>1613.</td><td>10.0</td><td>70</td><td>Europe</td></tr>\n",
              "<tr><td>max</td><td>Volvo Diesel</td><td>9.0</td><td>8</td><td>98.00</td><td>98.00</td><td>5140.</td><td>9.50</td><td>82</td><td>US</td></tr>\n",
              "</table>\n"
            ]
          },
          "metadata": {},
          "execution_count": 89
        }
      ]
    },
    {
      "cell_type": "code",
      "source": [
        "df.printSchema()"
      ],
      "metadata": {
        "colab": {
          "base_uri": "https://localhost:8080/"
        },
        "id": "-E3HIKhby4yp",
        "outputId": "eed64475-f620-4037-e233-189b1eee8da2"
      },
      "execution_count": null,
      "outputs": [
        {
          "output_type": "stream",
          "name": "stdout",
          "text": [
            "root\n",
            " |-- Car: string (nullable = true)\n",
            " |-- MPG: string (nullable = true)\n",
            " |-- Cylinders: string (nullable = true)\n",
            " |-- Displacement: string (nullable = true)\n",
            " |-- Horsepower: string (nullable = true)\n",
            " |-- Weight: string (nullable = true)\n",
            " |-- Acceleration: string (nullable = true)\n",
            " |-- Model: string (nullable = true)\n",
            " |-- Origin: string (nullable = true)\n",
            "\n"
          ]
        }
      ]
    },
    {
      "cell_type": "code",
      "source": [
        "df.select(df.Car)"
      ],
      "metadata": {
        "colab": {
          "base_uri": "https://localhost:8080/",
          "height": 511
        },
        "id": "EVu5_Dnd3f-J",
        "outputId": "3e952593-653b-4559-e0bf-15c3774ef447"
      },
      "execution_count": null,
      "outputs": [
        {
          "output_type": "execute_result",
          "data": {
            "text/plain": [
              "+--------------------+\n",
              "|                 Car|\n",
              "+--------------------+\n",
              "|Chevrolet Chevell...|\n",
              "|   Buick Skylark 320|\n",
              "|  Plymouth Satellite|\n",
              "|       AMC Rebel SST|\n",
              "|         Ford Torino|\n",
              "|    Ford Galaxie 500|\n",
              "|    Chevrolet Impala|\n",
              "|   Plymouth Fury iii|\n",
              "|    Pontiac Catalina|\n",
              "|  AMC Ambassador DPL|\n",
              "|Citroen DS-21 Pallas|\n",
              "|Chevrolet Chevell...|\n",
              "|    Ford Torino (sw)|\n",
              "|Plymouth Satellit...|\n",
              "|  AMC Rebel SST (sw)|\n",
              "| Dodge Challenger SE|\n",
              "|  Plymouth 'Cuda 340|\n",
              "|Ford Mustang Boss...|\n",
              "|Chevrolet Monte C...|\n",
              "|Buick Estate Wago...|\n",
              "+--------------------+\n",
              "only showing top 20 rows"
            ],
            "text/html": [
              "<table border='1'>\n",
              "<tr><th>Car</th></tr>\n",
              "<tr><td>Chevrolet Chevell...</td></tr>\n",
              "<tr><td>Buick Skylark 320</td></tr>\n",
              "<tr><td>Plymouth Satellite</td></tr>\n",
              "<tr><td>AMC Rebel SST</td></tr>\n",
              "<tr><td>Ford Torino</td></tr>\n",
              "<tr><td>Ford Galaxie 500</td></tr>\n",
              "<tr><td>Chevrolet Impala</td></tr>\n",
              "<tr><td>Plymouth Fury iii</td></tr>\n",
              "<tr><td>Pontiac Catalina</td></tr>\n",
              "<tr><td>AMC Ambassador DPL</td></tr>\n",
              "<tr><td>Citroen DS-21 Pallas</td></tr>\n",
              "<tr><td>Chevrolet Chevell...</td></tr>\n",
              "<tr><td>Ford Torino (sw)</td></tr>\n",
              "<tr><td>Plymouth Satellit...</td></tr>\n",
              "<tr><td>AMC Rebel SST (sw)</td></tr>\n",
              "<tr><td>Dodge Challenger SE</td></tr>\n",
              "<tr><td>Plymouth &#x27;Cuda 340</td></tr>\n",
              "<tr><td>Ford Mustang Boss...</td></tr>\n",
              "<tr><td>Chevrolet Monte C...</td></tr>\n",
              "<tr><td>Buick Estate Wago...</td></tr>\n",
              "</table>\n",
              "only showing top 20 rows\n"
            ]
          },
          "metadata": {},
          "execution_count": 91
        }
      ]
    },
    {
      "cell_type": "code",
      "source": [
        "from pyspark.sql.functions import col\n",
        "df.select( col('Weight')).show(truncate=False)"
      ],
      "metadata": {
        "colab": {
          "base_uri": "https://localhost:8080/"
        },
        "id": "jQT0QwoN4DNW",
        "outputId": "7b562484-12bd-436f-d21c-79d3614477d0"
      },
      "execution_count": null,
      "outputs": [
        {
          "output_type": "stream",
          "name": "stdout",
          "text": [
            "+------+\n",
            "|Weight|\n",
            "+------+\n",
            "|3504. |\n",
            "|3693. |\n",
            "|3436. |\n",
            "|3433. |\n",
            "|3449. |\n",
            "|4341. |\n",
            "|4354. |\n",
            "|4312. |\n",
            "|4425. |\n",
            "|3850. |\n",
            "|3090. |\n",
            "|4142. |\n",
            "|4034. |\n",
            "|4166. |\n",
            "|3850. |\n",
            "|3563. |\n",
            "|3609. |\n",
            "|3353. |\n",
            "|3761. |\n",
            "|3086. |\n",
            "+------+\n",
            "only showing top 20 rows\n",
            "\n"
          ]
        }
      ]
    },
    {
      "cell_type": "code",
      "source": [
        "import numpy as np\n",
        "\n",
        "from pyspark.sql.functions import lit\n",
        "df = df.withColumn('first_column',lit(np.random.randint(0,5))) \n",
        "df.show(5,truncate=False)"
      ],
      "metadata": {
        "colab": {
          "base_uri": "https://localhost:8080/"
        },
        "id": "ZgU8dvHd4cKN",
        "outputId": "4a20a8b4-755d-4ff5-a771-9562f90c6069"
      },
      "execution_count": null,
      "outputs": [
        {
          "output_type": "stream",
          "name": "stdout",
          "text": [
            "+-------------------------+----+---------+------------+----------+------+------------+-----+------+------------+\n",
            "|Car                      |MPG |Cylinders|Displacement|Horsepower|Weight|Acceleration|Model|Origin|first_column|\n",
            "+-------------------------+----+---------+------------+----------+------+------------+-----+------+------------+\n",
            "|Chevrolet Chevelle Malibu|18.0|8        |307.0       |130.0     |3504. |12.0        |70   |US    |4           |\n",
            "|Buick Skylark 320        |15.0|8        |350.0       |165.0     |3693. |11.5        |70   |US    |4           |\n",
            "|Plymouth Satellite       |18.0|8        |318.0       |150.0     |3436. |11.0        |70   |US    |4           |\n",
            "|AMC Rebel SST            |16.0|8        |304.0       |150.0     |3433. |12.0        |70   |US    |4           |\n",
            "|Ford Torino              |17.0|8        |302.0       |140.0     |3449. |10.5        |70   |US    |4           |\n",
            "+-------------------------+----+---------+------------+----------+------+------------+-----+------+------------+\n",
            "only showing top 5 rows\n",
            "\n"
          ]
        }
      ]
    },
    {
      "cell_type": "code",
      "source": [
        "df = df.drop('first_column')\n",
        "df.show(5,truncate=False)"
      ],
      "metadata": {
        "colab": {
          "base_uri": "https://localhost:8080/"
        },
        "id": "gXYMhXHp5_cf",
        "outputId": "fb5ec217-bbc3-43f4-810a-6073c816b384"
      },
      "execution_count": null,
      "outputs": [
        {
          "output_type": "stream",
          "name": "stdout",
          "text": [
            "+-------------------------+----+---------+------------+----------+------+------------+-----+------+\n",
            "|Car                      |MPG |Cylinders|Displacement|Horsepower|Weight|Acceleration|Model|Origin|\n",
            "+-------------------------+----+---------+------------+----------+------+------------+-----+------+\n",
            "|Chevrolet Chevelle Malibu|18.0|8        |307.0       |130.0     |3504. |12.0        |70   |US    |\n",
            "|Buick Skylark 320        |15.0|8        |350.0       |165.0     |3693. |11.5        |70   |US    |\n",
            "|Plymouth Satellite       |18.0|8        |318.0       |150.0     |3436. |11.0        |70   |US    |\n",
            "|AMC Rebel SST            |16.0|8        |304.0       |150.0     |3433. |12.0        |70   |US    |\n",
            "|Ford Torino              |17.0|8        |302.0       |140.0     |3449. |10.5        |70   |US    |\n",
            "+-------------------------+----+---------+------------+----------+------+------------+-----+------+\n",
            "only showing top 5 rows\n",
            "\n"
          ]
        }
      ]
    },
    {
      "cell_type": "code",
      "source": [
        "#@title groupBy\n",
        "df.groupBy('Origin' , 'Cylinders').count().show(5)"
      ],
      "metadata": {
        "colab": {
          "base_uri": "https://localhost:8080/"
        },
        "id": "pUvYaAcY4u4I",
        "outputId": "7d09109b-adc8-4e79-dffa-f1fd0a2fc9f5"
      },
      "execution_count": null,
      "outputs": [
        {
          "output_type": "stream",
          "name": "stdout",
          "text": [
            "+------+---------+-----+\n",
            "|Origin|Cylinders|count|\n",
            "+------+---------+-----+\n",
            "|    US|        8|  108|\n",
            "|Europe|        5|    3|\n",
            "|Europe|        6|    4|\n",
            "|    US|        4|   72|\n",
            "| Japan|        6|    6|\n",
            "+------+---------+-----+\n",
            "only showing top 5 rows\n",
            "\n"
          ]
        }
      ]
    },
    {
      "cell_type": "code",
      "source": [],
      "metadata": {
        "id": "oddKLGd47-IN"
      },
      "execution_count": null,
      "outputs": []
    },
    {
      "cell_type": "code",
      "source": [
        "#@title filter\n",
        "\n",
        "df.filter((col('Origin')=='Europe') & (col('Cylinders')==4)).show(truncate=False)"
      ],
      "metadata": {
        "colab": {
          "base_uri": "https://localhost:8080/"
        },
        "id": "EXHGJZYv5rmc",
        "outputId": "ce597bd6-5360-48fe-f230-d7de1e9fa7f1"
      },
      "execution_count": null,
      "outputs": [
        {
          "output_type": "stream",
          "name": "stdout",
          "text": [
            "+----------------------------+----+---------+------------+----------+------+------------+-----+------+\n",
            "|Car                         |MPG |Cylinders|Displacement|Horsepower|Weight|Acceleration|Model|Origin|\n",
            "+----------------------------+----+---------+------------+----------+------+------------+-----+------+\n",
            "|Citroen DS-21 Pallas        |0   |4        |133.0       |115.0     |3090. |17.5        |70   |Europe|\n",
            "|Volkswagen 1131 Deluxe Sedan|26.0|4        |97.00       |46.00     |1835. |20.5        |70   |Europe|\n",
            "|Peugeot 504                 |25.0|4        |110.0       |87.00     |2672. |17.5        |70   |Europe|\n",
            "|Audi 100 LS                 |24.0|4        |107.0       |90.00     |2430. |14.5        |70   |Europe|\n",
            "|Saab 99e                    |25.0|4        |104.0       |95.00     |2375. |17.5        |70   |Europe|\n",
            "|BMW 2002                    |26.0|4        |121.0       |113.0     |2234. |12.5        |70   |Europe|\n",
            "|Volkswagen Super Beetle 117 |0   |4        |97.00       |48.00     |1978. |20.0        |71   |Europe|\n",
            "|Opel 1900                   |28.0|4        |116.0       |90.00     |2123. |14.0        |71   |Europe|\n",
            "|Peugeot 304                 |30.0|4        |79.00       |70.00     |2074. |19.5        |71   |Europe|\n",
            "|Fiat 124B                   |30.0|4        |88.00       |76.00     |2065. |14.5        |71   |Europe|\n",
            "|Volkswagen Model 111        |27.0|4        |97.00       |60.00     |1834. |19.0        |71   |Europe|\n",
            "|Volkswagen Type 3           |23.0|4        |97.00       |54.00     |2254. |23.5        |72   |Europe|\n",
            "|Volvo 145e (sw)             |18.0|4        |121.0       |112.0     |2933. |14.5        |72   |Europe|\n",
            "|Volkswagen 411 (sw)         |22.0|4        |121.0       |76.00     |2511. |18.0        |72   |Europe|\n",
            "|Peugeot 504 (sw)            |21.0|4        |120.0       |87.00     |2979. |19.5        |72   |Europe|\n",
            "|Renault 12 (sw)             |26.0|4        |96.00       |69.00     |2189. |18.0        |72   |Europe|\n",
            "|Volkswagen Super Beetle     |26.0|4        |97.00       |46.00     |1950. |21.0        |73   |Europe|\n",
            "|Fiat 124 Sport Coupe        |26.0|4        |98.00       |90.00     |2265. |15.5        |73   |Europe|\n",
            "|Fiat 128                    |29.0|4        |68.00       |49.00     |1867. |19.5        |73   |Europe|\n",
            "|Opel Manta                  |24.0|4        |116.0       |75.00     |2158. |15.5        |73   |Europe|\n",
            "+----------------------------+----+---------+------------+----------+------+------------+-----+------+\n",
            "only showing top 20 rows\n",
            "\n"
          ]
        }
      ]
    },
    {
      "cell_type": "code",
      "source": [
        "#@title orderBy\n",
        "\n",
        "df.orderBy('Cylinders' , ascending=False).show(5, truncate=False) "
      ],
      "metadata": {
        "colab": {
          "base_uri": "https://localhost:8080/"
        },
        "id": "zl2Z_7C88JLD",
        "outputId": "0fc239b2-7c44-4212-f267-e2f10a7a9419"
      },
      "execution_count": null,
      "outputs": [
        {
          "output_type": "stream",
          "name": "stdout",
          "text": [
            "+-------------------------+----+---------+------------+----------+------+------------+-----+------+\n",
            "|Car                      |MPG |Cylinders|Displacement|Horsepower|Weight|Acceleration|Model|Origin|\n",
            "+-------------------------+----+---------+------------+----------+------+------------+-----+------+\n",
            "|Chevrolet Chevelle Malibu|18.0|8        |307.0       |130.0     |3504. |12.0        |70   |US    |\n",
            "|Buick Skylark 320        |15.0|8        |350.0       |165.0     |3693. |11.5        |70   |US    |\n",
            "|Plymouth Satellite       |18.0|8        |318.0       |150.0     |3436. |11.0        |70   |US    |\n",
            "|AMC Rebel SST            |16.0|8        |304.0       |150.0     |3433. |12.0        |70   |US    |\n",
            "|Ford Torino              |17.0|8        |302.0       |140.0     |3449. |10.5        |70   |US    |\n",
            "+-------------------------+----+---------+------------+----------+------+------------+-----+------+\n",
            "only showing top 5 rows\n",
            "\n"
          ]
        }
      ]
    },
    {
      "cell_type": "code",
      "source": [
        "res = df.groupBy(\"Origin\").count().orderBy('count', ascending=False).show(10)\n",
        "res"
      ],
      "metadata": {
        "colab": {
          "base_uri": "https://localhost:8080/"
        },
        "id": "6H6Ju65g8_Tw",
        "outputId": "7de3b25c-b767-4c03-af58-e2f4d9e56242"
      },
      "execution_count": null,
      "outputs": [
        {
          "output_type": "stream",
          "name": "stdout",
          "text": [
            "+------+-----+\n",
            "|Origin|count|\n",
            "+------+-----+\n",
            "|    US|  254|\n",
            "| Japan|   79|\n",
            "|Europe|   73|\n",
            "+------+-----+\n",
            "\n"
          ]
        }
      ]
    },
    {
      "cell_type": "code",
      "source": [
        "import matplotlib.pyplot as plt\n",
        "\n",
        "labels = [row['Origin'] for row in df.groupBy(\"Origin\").count().orderBy('count', ascending=False).take(10)]\n",
        "values = [row['count'] for row in df.groupBy(\"Origin\").count().orderBy('count', ascending=False).take(10)]\n",
        "\n",
        "\n",
        "\n",
        "plt.bar(labels, values)\n",
        "plt.title('Top 10 Origins by Count')\n",
        "plt.xlabel('Origin')\n",
        "plt.ylabel('Count')\n",
        "plt.show()\n"
      ],
      "metadata": {
        "colab": {
          "base_uri": "https://localhost:8080/",
          "height": 472
        },
        "id": "vKMPQFEv5oDX",
        "outputId": "caf1e70d-5393-4e1c-a75d-732023d8aed5"
      },
      "execution_count": null,
      "outputs": [
        {
          "output_type": "display_data",
          "data": {
            "text/plain": [
              "<Figure size 640x480 with 1 Axes>"
            ],
            "image/png": "[encoded data removed]"
          },
          "metadata": {}
        }
      ]
    },
    {
      "cell_type": "code",
      "source": [
        "from pyspark.sql.functions import min, max\n",
        "df.select(min(col('Weight')), max(col('Weight'))).show()"
      ],
      "metadata": {
        "colab": {
          "base_uri": "https://localhost:8080/"
        },
        "id": "mOM4lmxRBtXi",
        "outputId": "917d89b9-f72d-4a4b-914e-b22909ce4d1f"
      },
      "execution_count": null,
      "outputs": [
        {
          "output_type": "stream",
          "name": "stdout",
          "text": [
            "+-----------+-----------+\n",
            "|min(Weight)|max(Weight)|\n",
            "+-----------+-----------+\n",
            "|      1613.|      5140.|\n",
            "+-----------+-----------+\n",
            "\n"
          ]
        }
      ]
    },
    {
      "cell_type": "code",
      "source": [
        "from pyspark.sql.functions import col,lower, upper, substring\n",
        "df.select(col('Car'),lower(col('Car')),upper(col('Car')),substring(col('Car'),1,4).alias(\"concatenated value\")).show(5, False)\n",
        "\n",
        "# select car from table as CAR"
      ],
      "metadata": {
        "colab": {
          "base_uri": "https://localhost:8080/"
        },
        "id": "zd7bNnMiCJWT",
        "outputId": "c90e3c91-b569-4de0-9953-0317829f94c3"
      },
      "execution_count": null,
      "outputs": [
        {
          "output_type": "stream",
          "name": "stdout",
          "text": [
            "+-------------------------+-------------------------+-------------------------+------------------+\n",
            "|Car                      |lower(Car)               |upper(Car)               |concatenated value|\n",
            "+-------------------------+-------------------------+-------------------------+------------------+\n",
            "|Chevrolet Chevelle Malibu|chevrolet chevelle malibu|CHEVROLET CHEVELLE MALIBU|Chev              |\n",
            "|Buick Skylark 320        |buick skylark 320        |BUICK SKYLARK 320        |Buic              |\n",
            "|Plymouth Satellite       |plymouth satellite       |PLYMOUTH SATELLITE       |Plym              |\n",
            "|AMC Rebel SST            |amc rebel sst            |AMC REBEL SST            |AMC               |\n",
            "|Ford Torino              |ford torino              |FORD TORINO              |Ford              |\n",
            "+-------------------------+-------------------------+-------------------------+------------------+\n",
            "only showing top 5 rows\n",
            "\n"
          ]
        }
      ]
    },
    {
      "cell_type": "markdown",
      "source": [
        "spark SQL"
      ],
      "metadata": {
        "id": "1_H6JnghBD6v"
      }
    },
    {
      "cell_type": "code",
      "source": [
        "df.createOrReplaceTempView(\"temp\")\n",
        "spark.sql(\"select * from temp limit 5\").show()\n"
      ],
      "metadata": {
        "colab": {
          "base_uri": "https://localhost:8080/"
        },
        "id": "1zKocz9Z9Re1",
        "outputId": "0d59e5f0-7b6d-4013-c1a0-94dbe195d0c5"
      },
      "execution_count": null,
      "outputs": [
        {
          "output_type": "stream",
          "name": "stdout",
          "text": [
            "+--------------------+----+---------+------------+----------+------+------------+-----+------+\n",
            "|                 Car| MPG|Cylinders|Displacement|Horsepower|Weight|Acceleration|Model|Origin|\n",
            "+--------------------+----+---------+------------+----------+------+------------+-----+------+\n",
            "|Chevrolet Chevell...|18.0|        8|       307.0|     130.0| 3504.|        12.0|   70|    US|\n",
            "|   Buick Skylark 320|15.0|        8|       350.0|     165.0| 3693.|        11.5|   70|    US|\n",
            "|  Plymouth Satellite|18.0|        8|       318.0|     150.0| 3436.|        11.0|   70|    US|\n",
            "|       AMC Rebel SST|16.0|        8|       304.0|     150.0| 3433.|        12.0|   70|    US|\n",
            "|         Ford Torino|17.0|        8|       302.0|     140.0| 3449.|        10.5|   70|    US|\n",
            "+--------------------+----+---------+------------+----------+------+------------+-----+------+\n",
            "\n"
          ]
        }
      ]
    },
    {
      "cell_type": "code",
      "source": [
        "df.show(5)"
      ],
      "metadata": {
        "colab": {
          "base_uri": "https://localhost:8080/"
        },
        "id": "1K-Nu_uz2GIv",
        "outputId": "fc76f8e2-2284-46cf-b328-ea911fa8419c"
      },
      "execution_count": null,
      "outputs": [
        {
          "output_type": "stream",
          "name": "stdout",
          "text": [
            "+--------------------+----+---------+------------+----------+------+------------+-----+------+\n",
            "|                 Car| MPG|Cylinders|Displacement|Horsepower|Weight|Acceleration|Model|Origin|\n",
            "+--------------------+----+---------+------------+----------+------+------------+-----+------+\n",
            "|Chevrolet Chevell...|18.0|        8|       307.0|     130.0| 3504.|        12.0|   70|    US|\n",
            "|   Buick Skylark 320|15.0|        8|       350.0|     165.0| 3693.|        11.5|   70|    US|\n",
            "|  Plymouth Satellite|18.0|        8|       318.0|     150.0| 3436.|        11.0|   70|    US|\n",
            "|       AMC Rebel SST|16.0|        8|       304.0|     150.0| 3433.|        12.0|   70|    US|\n",
            "|         Ford Torino|17.0|        8|       302.0|     140.0| 3449.|        10.5|   70|    US|\n",
            "+--------------------+----+---------+------------+----------+------+------------+-----+------+\n",
            "only showing top 5 rows\n",
            "\n"
          ]
        }
      ]
    },
    {
      "cell_type": "code",
      "source": [
        "spark.sql(\"select count(*) as total_count from temp\").show()"
      ],
      "metadata": {
        "colab": {
          "base_uri": "https://localhost:8080/"
        },
        "id": "QhSniZj-BKwo",
        "outputId": "1066ab41-f0df-43e9-c212-2807eca561c6"
      },
      "execution_count": null,
      "outputs": [
        {
          "output_type": "stream",
          "name": "stdout",
          "text": [
            "+-----------+\n",
            "|total_count|\n",
            "+-----------+\n",
            "|        406|\n",
            "+-----------+\n",
            "\n"
          ]
        }
      ]
    },
    {
      "cell_type": "code",
      "source": [],
      "metadata": {
        "id": "7RvClntsBOo2"
      },
      "execution_count": null,
      "outputs": []
    },
    {
      "cell_type": "markdown",
      "source": [
        "##Unstructured data\n"
      ],
      "metadata": {
        "id": "b1EoeznTMSOl"
      }
    },
    {
      "cell_type": "code",
      "source": [
        "from pyspark.sql.types import *\n",
        "from pyspark.sql.functions import col, split"
      ],
      "metadata": {
        "id": "GSFpJ6Z3MUbn"
      },
      "execution_count": null,
      "outputs": []
    },
    {
      "cell_type": "code",
      "source": [
        "def extract_data(start, end , path):\n",
        "    with open(path) as f:\n",
        "        for line in f:\n",
        "            if line.startswith(start):\n",
        "                result = []\n",
        "                result.append(line.strip())\n",
        "                for line in f:\n",
        "                    if line.rstrip() == end:\n",
        "                        break\n",
        "                    result.append(line.strip())\n",
        "    f.close()\n",
        "    return(result)"
      ],
      "metadata": {
        "id": "e4IKjqwLOFTN"
      },
      "execution_count": null,
      "outputs": []
    },
    {
      "cell_type": "markdown",
      "source": [],
      "metadata": {
        "id": "RrNNr02iXpt6"
      }
    },
    {
      "cell_type": "code",
      "source": [
        "path = '/content/unstructured.txt'\n",
        "getList = extract_data(\"Error\", \"&closed\" , path)\n",
        "getList"
      ],
      "metadata": {
        "id": "zSNGnoEFOGHf"
      },
      "execution_count": null,
      "outputs": []
    },
    {
      "cell_type": "code",
      "source": [
        "from pyspark.sql.types import StringType\n",
        "data = spark.createDataFrame(getList,StringType())\n",
        "data.cache()"
      ],
      "metadata": {
        "colab": {
          "base_uri": "https://localhost:8080/",
          "height": 178
        },
        "id": "pOHMGpaMQYzM",
        "outputId": "36d1f824-9cf1-41d7-920c-69580253bf99"
      },
      "execution_count": null,
      "outputs": [
        {
          "output_type": "execute_result",
          "data": {
            "text/plain": [
              "+--------------------+\n",
              "|               value|\n",
              "+--------------------+\n",
              "|Error 1, Asif, 20...|\n",
              "|Error 2, Haris, 2...|\n",
              "|Error 3, Ali, 202...|\n",
              "|Error 4, Awan, 20...|\n",
              "|Error 5, Wali, 20...|\n",
              "|Error 6, \"Asfand:...|\n",
              "+--------------------+"
            ],
            "text/html": [
              "<table border='1'>\n",
              "<tr><th>value</th></tr>\n",
              "<tr><td>Error 1, Asif, 20...</td></tr>\n",
              "<tr><td>Error 2, Haris, 2...</td></tr>\n",
              "<tr><td>Error 3, Ali, 202...</td></tr>\n",
              "<tr><td>Error 4, Awan, 20...</td></tr>\n",
              "<tr><td>Error 5, Wali, 20...</td></tr>\n",
              "<tr><td>Error 6, &quot;Asfand:...</td></tr>\n",
              "</table>\n"
            ]
          },
          "metadata": {},
          "execution_count": 108
        }
      ]
    },
    {
      "cell_type": "code",
      "source": [
        "cleaned = data.select(split(col(\"value\"), \",\").getItem(0).alias(\"Error\"),\n",
        "                     split(col(\"value\"), \",\").getItem(1).alias(\"Programmer\"),\n",
        "                     split(col(\"value\"), \",\").getItem(2).alias(\"date\"),\n",
        "                     split(col(\"value\"), \",\").getItem(3).alias(\"Age\"),\n",
        "                     split(col(\"value\"), \",\").getItem(4).alias(\"Affiliation\")).drop(\"value\")\n",
        "\n",
        "cleaned.show(truncate=False)"
      ],
      "metadata": {
        "colab": {
          "base_uri": "https://localhost:8080/"
        },
        "id": "Nondj-SwRCpt",
        "outputId": "2093ff57-4931-4f7b-8840-c466393134c4"
      },
      "execution_count": null,
      "outputs": [
        {
          "output_type": "stream",
          "name": "stdout",
          "text": [
            "+-------+----------+--------------------+----+-----------+\n",
            "|Error  |Programmer|date                |Age |Affiliation|\n",
            "+-------+----------+--------------------+----+-----------+\n",
            "|Error 1| Asif     | 2021-06-16 03:31:00| 22 | ATU       |\n",
            "|Error 2| Haris    | 2022-04-16 03:33:00| 23 | ATU       |\n",
            "|Error 3| Ali      | 2023-06-8 03:36:00 | 45 | UCD       |\n",
            "|Error 4| Awan     | 2022-06-5 03:38:00 | 34 |null       |\n",
            "|Error 5| Wali     | 2021-06-9 03:39:00 | 23 | GCT       |\n",
            "|Error 6| \"Asfand: | 2022-06-2 03:42:00 | 41 |null       |\n",
            "+-------+----------+--------------------+----+-----------+\n",
            "\n"
          ]
        }
      ]
    },
    {
      "cell_type": "code",
      "source": [
        "\n",
        "# read the JSON file\n",
        "df = spark.read  .json(\"/content/data_json.json\")\n",
        "df.show()\n"
      ],
      "metadata": {
        "colab": {
          "base_uri": "https://localhost:8080/"
        },
        "id": "LdAkRK2ySBG7",
        "outputId": "d80b7cc8-d7c8-478a-e7f2-ba3f9c597bc3"
      },
      "execution_count": null,
      "outputs": [
        {
          "output_type": "stream",
          "name": "stdout",
          "text": [
            "+-----------------+----+------------+\n",
            "|  _corrupt_record|  id|        type|\n",
            "+-----------------+----+------------+\n",
            "|                {|null|        null|\n",
            "|   \t\"id\": \"0001\",|null|        null|\n",
            "|\t\"type\": \"donut\",|null|        null|\n",
            "| \t\"name\": \"Cake\",|null|        null|\n",
            "|    \t\"ppu\": 0.55,|null|        null|\n",
            "|      \t\"batters\":|null|        null|\n",
            "|              \t\t{|null|        null|\n",
            "|     \t\t\t\"batter\":|null|        null|\n",
            "|            \t\t\t\t[|null|        null|\n",
            "|             null|1001|     Regular|\n",
            "|             null|1002|   Chocolate|\n",
            "|             null|1003|   Blueberry|\n",
            "|             null|1004|Devil's Food|\n",
            "|            \t\t\t\t]|null|        null|\n",
            "|             \t\t},|null|        null|\n",
            "|      \t\"topping\":|null|        null|\n",
            "|              \t\t[|null|        null|\n",
            "|             null|5001|        None|\n",
            "|             null|5002|      Glazed|\n",
            "|             null|5005|       Sugar|\n",
            "+-----------------+----+------------+\n",
            "only showing top 20 rows\n",
            "\n"
          ]
        }
      ]
    },
    {
      "cell_type": "code",
      "source": [],
      "metadata": {
        "id": "UsJqkvd1gn_x"
      },
      "execution_count": null,
      "outputs": []
    },
    {
      "cell_type": "code",
      "source": [],
      "metadata": {
        "id": "s5QkTgX2ijkx"
      },
      "execution_count": null,
      "outputs": []
    },
    {
      "cell_type": "code",
      "source": [
        "from pyspark.sql.functions import explode,col\n",
        "df_json = spark.read.option(\"multiline\",\"true\").json(\"/content/data_json.json\")\n",
        "df_json.printSchema()"
      ],
      "metadata": {
        "colab": {
          "base_uri": "https://localhost:8080/"
        },
        "id": "umwKO5BDijnp",
        "outputId": "923b83e3-442c-44df-a19b-9692c663d707"
      },
      "execution_count": null,
      "outputs": [
        {
          "output_type": "stream",
          "name": "stdout",
          "text": [
            "root\n",
            " |-- batters: struct (nullable = true)\n",
            " |    |-- batter: array (nullable = true)\n",
            " |    |    |-- element: struct (containsNull = true)\n",
            " |    |    |    |-- id: string (nullable = true)\n",
            " |    |    |    |-- type: string (nullable = true)\n",
            " |-- id: string (nullable = true)\n",
            " |-- name: string (nullable = true)\n",
            " |-- ppu: double (nullable = true)\n",
            " |-- topping: array (nullable = true)\n",
            " |    |-- element: struct (containsNull = true)\n",
            " |    |    |-- id: string (nullable = true)\n",
            " |    |    |-- type: string (nullable = true)\n",
            " |-- type: string (nullable = true)\n",
            "\n"
          ]
        }
      ]
    },
    {
      "cell_type": "code",
      "source": [
        "df_final = df_json.withColumn(\"topping_explode\",explode(\"topping\"))\\\n",
        "                .withColumn(\"topping_id\",col(\"topping_explode.id\"))\\\n",
        "                .withColumn(\"topping_type\",col(\"topping_explode.type\"))\\\n",
        "                .drop(\"topping\",\"topping_explode\")\\\n",
        "                .withColumn(\"batter_explode\",explode(\"batters.batter\"))\\\n",
        "                .withColumn(\"batter_id\",col(\"batter_explode.id\"))\\\n",
        "                .withColumn(\"batter_type\",col(\"batter_explode.type\"))\\\n",
        "                .drop(\"batters\",\"batter_explode\")\n",
        "df_final.show()\n",
        "     "
      ],
      "metadata": {
        "colab": {
          "base_uri": "https://localhost:8080/"
        },
        "id": "ktPpEsr3itDG",
        "outputId": "e859b4ad-9382-4f4d-a660-aae6a2847144"
      },
      "execution_count": null,
      "outputs": [
        {
          "output_type": "stream",
          "name": "stdout",
          "text": [
            "+----+----+----+-----+----------+--------------------+---------+------------+\n",
            "|  id|name| ppu| type|topping_id|        topping_type|batter_id| batter_type|\n",
            "+----+----+----+-----+----------+--------------------+---------+------------+\n",
            "|0001|Cake|0.55|donut|      5001|                None|     1001|     Regular|\n",
            "|0001|Cake|0.55|donut|      5001|                None|     1002|   Chocolate|\n",
            "|0001|Cake|0.55|donut|      5001|                None|     1003|   Blueberry|\n",
            "|0001|Cake|0.55|donut|      5001|                None|     1004|Devil's Food|\n",
            "|0001|Cake|0.55|donut|      5002|              Glazed|     1001|     Regular|\n",
            "|0001|Cake|0.55|donut|      5002|              Glazed|     1002|   Chocolate|\n",
            "|0001|Cake|0.55|donut|      5002|              Glazed|     1003|   Blueberry|\n",
            "|0001|Cake|0.55|donut|      5002|              Glazed|     1004|Devil's Food|\n",
            "|0001|Cake|0.55|donut|      5005|               Sugar|     1001|     Regular|\n",
            "|0001|Cake|0.55|donut|      5005|               Sugar|     1002|   Chocolate|\n",
            "|0001|Cake|0.55|donut|      5005|               Sugar|     1003|   Blueberry|\n",
            "|0001|Cake|0.55|donut|      5005|               Sugar|     1004|Devil's Food|\n",
            "|0001|Cake|0.55|donut|      5007|      Powdered Sugar|     1001|     Regular|\n",
            "|0001|Cake|0.55|donut|      5007|      Powdered Sugar|     1002|   Chocolate|\n",
            "|0001|Cake|0.55|donut|      5007|      Powdered Sugar|     1003|   Blueberry|\n",
            "|0001|Cake|0.55|donut|      5007|      Powdered Sugar|     1004|Devil's Food|\n",
            "|0001|Cake|0.55|donut|      5006|Chocolate with Sp...|     1001|     Regular|\n",
            "|0001|Cake|0.55|donut|      5006|Chocolate with Sp...|     1002|   Chocolate|\n",
            "|0001|Cake|0.55|donut|      5006|Chocolate with Sp...|     1003|   Blueberry|\n",
            "|0001|Cake|0.55|donut|      5006|Chocolate with Sp...|     1004|Devil's Food|\n",
            "+----+----+----+-----+----------+--------------------+---------+------------+\n",
            "only showing top 20 rows\n",
            "\n"
          ]
        }
      ]
    },
    {
      "cell_type": "code",
      "source": [],
      "metadata": {
        "id": "B7sKZqj6jP17"
      },
      "execution_count": null,
      "outputs": []
    }
  ]
}